{
  "nbformat": 4,
  "nbformat_minor": 0,
  "metadata": {
    "colab": {
      "name": "CUDA_Lab0.ipynb",
      "provenance": [],
      "collapsed_sections": [],
      "include_colab_link": true
    },
    "kernelspec": {
      "name": "python3",
      "display_name": "Python 3"
    },
    "accelerator": "GPU"
  },
  "cells": [
    {
      "cell_type": "markdown",
      "metadata": {
        "id": "view-in-github",
        "colab_type": "text"
      },
      "source": [
        "<a href=\"https://colab.research.google.com/github/Alinabelko/CUDA_labs/blob/main/CUDA_Lab0.ipynb\" target=\"_parent\"><img src=\"https://colab.research.google.com/assets/colab-badge.svg\" alt=\"Open In Colab\"/></a>"
      ]
    },
    {
      "cell_type": "code",
      "metadata": {
        "id": "eIZvFA8MGhpX"
      },
      "source": [
        "import numpy as np\n",
        "from numba import cuda\n",
        "from time import time\n",
        "import math\n",
        "import pandas as pd"
      ],
      "execution_count": 1,
      "outputs": []
    },
    {
      "cell_type": "markdown",
      "metadata": {
        "id": "646PhW0cGlpS"
      },
      "source": [
        "Поэлементное умножение матриц"
      ]
    },
    {
      "cell_type": "code",
      "metadata": {
        "id": "fvQyLy31GlD4"
      },
      "source": [
        "def simple_dot_cpu(a, b):\n",
        "  n=len(a)\n",
        "  c = np.zeros((n,n))\n",
        "  start = time()\n",
        "  for i in range(n):\n",
        "    for j in range(n):\n",
        "      for k in range(n):\n",
        "        c[i, j] += a[i,k] * b[k,j]\n",
        "  return c, time()-start"
      ],
      "execution_count": 2,
      "outputs": []
    },
    {
      "cell_type": "markdown",
      "metadata": {
        "id": "ic-qHwoXGr1i"
      },
      "source": [
        "Умножение с помощью numpy"
      ]
    },
    {
      "cell_type": "code",
      "metadata": {
        "id": "ZDuzGDs0GsDW"
      },
      "source": [
        "def np_dot_cpu(a, b):\n",
        "  start = time()\n",
        "  c = np.dot(a, b)\n",
        "  return c, time() - start"
      ],
      "execution_count": 3,
      "outputs": []
    },
    {
      "cell_type": "markdown",
      "metadata": {
        "id": "eSYdV4PZGwiF"
      },
      "source": [
        "Вычисление одного элемента с помощью CUDA"
      ]
    },
    {
      "cell_type": "code",
      "metadata": {
        "id": "H7e6wSnBGwsS"
      },
      "source": [
        "@cuda.jit\n",
        "def simple_dot_gpu(a, b, c):\n",
        "    i, j = cuda.grid(2)\n",
        "    if i < c.shape[0] and j < c.shape[1]:\n",
        "      tmp = 0\n",
        "      for k in range(a.shape[1]):\n",
        "        tmp += a[i, k] * b[k, j]\n",
        "      c[i, j] = tmp"
      ],
      "execution_count": 4,
      "outputs": []
    },
    {
      "cell_type": "markdown",
      "metadata": {
        "id": "yWccTBy7KB6c"
      },
      "source": [
        "Умножение с помощью CUDA"
      ]
    },
    {
      "cell_type": "code",
      "metadata": {
        "id": "rDJYvX_SG-m4"
      },
      "source": [
        "def gpu_dot_exec(a, b, c, n):\n",
        "\n",
        "  tread_number_block = 32\n",
        "\n",
        "  a_global = cuda.to_device(a)\n",
        "  b_global = cuda.to_device(b)\n",
        "  c_global = cuda.device_array((n, n))\n",
        "    \n",
        "  # grid initialization\n",
        "  threadsperblock = (tread_number_block, tread_number_block)\n",
        "  blockspergrid_x = int(math.ceil(a.shape[0] / threadsperblock[1]))\n",
        "  blockspergrid_y = int(math.ceil(b.shape[1] / threadsperblock[0]))\n",
        "  blockspergrid = (blockspergrid_x, blockspergrid_y)\n",
        "\n",
        "  start = time()\n",
        "  simple_dot_gpu[blockspergrid, threadsperblock](a_global, b_global, c_global)\n",
        "  gpu_time = time() - start\n",
        "  c_gpu = c_global.copy_to_host() \n",
        "  return c_gpu, gpu_time"
      ],
      "execution_count": 5,
      "outputs": []
    },
    {
      "cell_type": "code",
      "metadata": {
        "id": "89QFQsI0HDNY"
      },
      "source": [
        "def time_test(n, count):  \n",
        "  gpu_time = 0\n",
        "  cpu_time = 0\n",
        "  for _ in range(count):\n",
        "    a = np.random.randint(0, 10, (n, n)).astype(np.float64)\n",
        "    b = np.random.randint(0, 10, (n, n)).astype(np.float64)\n",
        "    c = np.zeros((n, n)).astype(np.float64)\n",
        "    \n",
        "    c_gpu, gpu_time = gpu_dot_exec(a, b, c, n)\n",
        "    start = time()\n",
        "    c_cpu = simple_dot_cpu(a,b)\n",
        "    cpu_time += time() - start\n",
        "\n",
        "  print('Size', n)\n",
        "  print('CPU:',cpu_time/count)\n",
        "  print('GPU:',gpu_time/count)\n",
        "  print('GPU acceletaion',cpu_time/gpu_time * 100, \"%\" )\n",
        "  return cpu_time/gpu_time, c_cpu, c_gpu"
      ],
      "execution_count": 6,
      "outputs": []
    },
    {
      "cell_type": "code",
      "metadata": {
        "id": "jeIF99wjIXp2"
      },
      "source": [
        "def computation_error(n):\n",
        "  a = np.random.randint(0, 10, (n, n)).astype(np.float64)\n",
        "  b = np.random.randint(0, 10, (n, n)).astype(np.float64)\n",
        "  c = np.zeros((n, n)).astype(np.float64)\n",
        "  c_np = np_dot_cpu(a,b)[0]\n",
        "  c_cpu = simple_dot_cpu(a,b)[0]\n",
        "  c_gpu = gpu_dot_exec(a, b, c, n)[0]\n",
        "  print(\"CPU computation error:\", np.argmax(c_np-c_cpu))\n",
        "  print(\"GPU computation error:\", np.argmax(c_np-c_gpu))"
      ],
      "execution_count": 7,
      "outputs": []
    },
    {
      "cell_type": "code",
      "metadata": {
        "id": "Fq_-Smt7vrx1",
        "outputId": "1da3fa5b-3b9e-48f5-f84f-21330e2898c9",
        "colab": {
          "base_uri": "https://localhost:8080/"
        }
      },
      "source": [
        "computation_error(50)\n",
        "res = np.zeros((5,2), dtype = np.float64)\n",
        "res[0][0], res[0][1] = 10, time_test(10, 4)[0]\n",
        "res[1][0], res[1][1] = 50, time_test(50, 4)[0]\n",
        "res[2][0], res[2][1] = 250, time_test(250, 4)[0]\n",
        "res[3][0], res[3][1] = 1000, time_test(1000, 4)[0]\n",
        "res[4][0], res[4][1] = 1500, time_test(1500, 4)[0]"
      ],
      "execution_count": null,
      "outputs": [
        {
          "output_type": "stream",
          "text": [
            "CPU computation error: 0\n",
            "GPU computation error: 0\n",
            "Size 10\n",
            "CPU: 0.0008245706558227539\n",
            "GPU: 7.081031799316406e-05\n",
            "GPU acceletaion 1164.4781144781145 %\n",
            "Size 50\n",
            "CPU: 0.10008478164672852\n",
            "GPU: 8.20159912109375e-05\n",
            "GPU acceletaion 122030.81395348838 %\n",
            "Size 250\n",
            "CPU: 12.605998575687408\n",
            "GPU: 9.781122207641602e-05\n",
            "GPU acceletaion 12888090.249847654 %\n"
          ],
          "name": "stdout"
        }
      ]
    }
  ]
}
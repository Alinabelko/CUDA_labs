{
  "nbformat": 4,
  "nbformat_minor": 0,
  "metadata": {
    "colab": {
      "name": "ВС :: Lecture0_NS Belko.ipynb",
      "provenance": [],
      "include_colab_link": true
    },
    "kernelspec": {
      "name": "python3",
      "display_name": "Python 3"
    }
  },
  "cells": [
    {
      "cell_type": "markdown",
      "metadata": {
        "id": "view-in-github",
        "colab_type": "text"
      },
      "source": [
        "<a href=\"https://colab.research.google.com/github/Alinabelko/CUDA_labs/blob/main/%D0%92%D0%A1_Lecture0_NS_Belko.ipynb\" target=\"_parent\"><img src=\"https://colab.research.google.com/assets/colab-badge.svg\" alt=\"Open In Colab\"/></a>"
      ]
    },
    {
      "cell_type": "code",
      "metadata": {
        "id": "t89gQOFx6KU0",
        "colab": {
          "base_uri": "https://localhost:8080/"
        },
        "outputId": "56a2834f-be70-4a40-b52b-81e06b2a69bd"
      },
      "source": [
        "! pip3 install pathpy2\n",
        "! pip3 install seaborn"
      ],
      "execution_count": null,
      "outputs": [
        {
          "output_type": "stream",
          "name": "stdout",
          "text": [
            "Requirement already satisfied: pathpy2 in /usr/local/lib/python3.7/dist-packages (2.2.0)\n",
            "Requirement already satisfied: scipy in /usr/local/lib/python3.7/dist-packages (from pathpy2) (1.4.1)\n",
            "Requirement already satisfied: numpy in /usr/local/lib/python3.7/dist-packages (from pathpy2) (1.19.5)\n",
            "Requirement already satisfied: seaborn in /usr/local/lib/python3.7/dist-packages (0.11.2)\n",
            "Requirement already satisfied: scipy>=1.0 in /usr/local/lib/python3.7/dist-packages (from seaborn) (1.4.1)\n",
            "Requirement already satisfied: matplotlib>=2.2 in /usr/local/lib/python3.7/dist-packages (from seaborn) (3.2.2)\n",
            "Requirement already satisfied: numpy>=1.15 in /usr/local/lib/python3.7/dist-packages (from seaborn) (1.19.5)\n",
            "Requirement already satisfied: pandas>=0.23 in /usr/local/lib/python3.7/dist-packages (from seaborn) (1.1.5)\n",
            "Requirement already satisfied: cycler>=0.10 in /usr/local/lib/python3.7/dist-packages (from matplotlib>=2.2->seaborn) (0.10.0)\n",
            "Requirement already satisfied: python-dateutil>=2.1 in /usr/local/lib/python3.7/dist-packages (from matplotlib>=2.2->seaborn) (2.8.2)\n",
            "Requirement already satisfied: kiwisolver>=1.0.1 in /usr/local/lib/python3.7/dist-packages (from matplotlib>=2.2->seaborn) (1.3.2)\n",
            "Requirement already satisfied: pyparsing!=2.0.4,!=2.1.2,!=2.1.6,>=2.0.1 in /usr/local/lib/python3.7/dist-packages (from matplotlib>=2.2->seaborn) (2.4.7)\n",
            "Requirement already satisfied: six in /usr/local/lib/python3.7/dist-packages (from cycler>=0.10->matplotlib>=2.2->seaborn) (1.15.0)\n",
            "Requirement already satisfied: pytz>=2017.2 in /usr/local/lib/python3.7/dist-packages (from pandas>=0.23->seaborn) (2018.9)\n"
          ]
        }
      ]
    },
    {
      "cell_type": "code",
      "metadata": {
        "id": "jzheGllF6P1S"
      },
      "source": [
        "import pathpy as pp\n",
        "import numpy as np"
      ],
      "execution_count": null,
      "outputs": []
    },
    {
      "cell_type": "markdown",
      "metadata": {
        "id": "EXBNfPVdNOvQ"
      },
      "source": [
        "## **Networks objects**"
      ]
    },
    {
      "cell_type": "code",
      "metadata": {
        "id": "J40zyM3k6SpF",
        "colab": {
          "base_uri": "https://localhost:8080/"
        },
        "outputId": "a31fe5bb-ebbc-4d1a-e1cd-bb76fcd5a2e6"
      },
      "source": [
        "n1 = pp.Network()\n",
        "print(n1)"
      ],
      "execution_count": null,
      "outputs": [
        {
          "output_type": "stream",
          "name": "stdout",
          "text": [
            "Undirected network\n",
            "Nodes:\t\t\t\t0\n",
            "Links:\t\t\t\t0\n",
            "\n"
          ]
        }
      ]
    },
    {
      "cell_type": "code",
      "metadata": {
        "id": "E5rqwkJx6TXE",
        "colab": {
          "base_uri": "https://localhost:8080/"
        },
        "outputId": "4f1fc180-7ec2-4383-a3ac-4490c5f9589f"
      },
      "source": [
        "n2 = pp.Network(directed=True)\n",
        "print(n2)"
      ],
      "execution_count": null,
      "outputs": [
        {
          "output_type": "stream",
          "name": "stdout",
          "text": [
            "Directed network\n",
            "Nodes:\t\t\t\t0\n",
            "Links:\t\t\t\t0\n",
            "\n"
          ]
        }
      ]
    },
    {
      "cell_type": "code",
      "metadata": {
        "id": "s4z5bZ_K6WM1",
        "colab": {
          "base_uri": "https://localhost:8080/"
        },
        "outputId": "530afa50-10dd-433a-95c4-05340edd8032"
      },
      "source": [
        "n = pp.Network(directed=True)\n",
        "n.add_node('a')\n",
        "n.add_node('b')\n",
        "n.add_node('c')\n",
        "n.add_node('d')\n",
        "n.add_edge('a', 'b')\n",
        "n.add_edge('d', 'c')\n",
        "n.add_edge('a', 'c')\n",
        "print(n)"
      ],
      "execution_count": null,
      "outputs": [
        {
          "output_type": "stream",
          "name": "stdout",
          "text": [
            "Directed network\n",
            "Nodes:\t\t\t\t4\n",
            "Links:\t\t\t\t3\n",
            "\n"
          ]
        }
      ]
    },
    {
      "cell_type": "code",
      "metadata": {
        "id": "UJ59fP-06dLu",
        "colab": {
          "base_uri": "https://localhost:8080/"
        },
        "outputId": "85e9d859-d743-4979-f04c-0f019ffeaece"
      },
      "source": [
        "n.nodes"
      ],
      "execution_count": null,
      "outputs": [
        {
          "output_type": "execute_result",
          "data": {
            "text/plain": [
              "defaultdict(dict,\n",
              "            {'a': {'indegree': 0,\n",
              "              'inweight': 0.0,\n",
              "              'outdegree': 2,\n",
              "              'outweight': 2.0},\n",
              "             'b': {'indegree': 1,\n",
              "              'inweight': 1.0,\n",
              "              'outdegree': 0,\n",
              "              'outweight': 0.0},\n",
              "             'c': {'indegree': 2,\n",
              "              'inweight': 2.0,\n",
              "              'outdegree': 0,\n",
              "              'outweight': 0.0},\n",
              "             'd': {'indegree': 0,\n",
              "              'inweight': 0.0,\n",
              "              'outdegree': 1,\n",
              "              'outweight': 1.0}})"
            ]
          },
          "metadata": {},
          "execution_count": 38
        }
      ]
    },
    {
      "cell_type": "code",
      "metadata": {
        "id": "7xi8zl8k6etJ",
        "colab": {
          "base_uri": "https://localhost:8080/"
        },
        "outputId": "62e7c5c5-1bed-48a0-b4ac-a4fe98f9f21d"
      },
      "source": [
        "print('d' in n.nodes)"
      ],
      "execution_count": null,
      "outputs": [
        {
          "output_type": "stream",
          "name": "stdout",
          "text": [
            "True\n"
          ]
        }
      ]
    },
    {
      "cell_type": "code",
      "metadata": {
        "id": "4PiRFelH6gLV",
        "colab": {
          "base_uri": "https://localhost:8080/"
        },
        "outputId": "d1ab32a9-898e-425f-eeb2-1c932a7b8083"
      },
      "source": [
        "n.add_edge('c', 'd')\n",
        "n.add_edge('d', 'a')\n",
        "print(n)"
      ],
      "execution_count": null,
      "outputs": [
        {
          "output_type": "stream",
          "name": "stdout",
          "text": [
            "Directed network\n",
            "Nodes:\t\t\t\t4\n",
            "Links:\t\t\t\t5\n",
            "\n"
          ]
        }
      ]
    },
    {
      "cell_type": "code",
      "metadata": {
        "id": "9QNOrGFO6h3o",
        "colab": {
          "base_uri": "https://localhost:8080/"
        },
        "outputId": "293ea052-7724-4368-b241-8540a49dfc46"
      },
      "source": [
        "print('d' in n.nodes)"
      ],
      "execution_count": null,
      "outputs": [
        {
          "output_type": "stream",
          "name": "stdout",
          "text": [
            "True\n"
          ]
        }
      ]
    },
    {
      "cell_type": "code",
      "metadata": {
        "id": "aBRy9Gky6jWG",
        "colab": {
          "base_uri": "https://localhost:8080/"
        },
        "outputId": "88078198-f962-467c-90bd-aaecf2282432"
      },
      "source": [
        "print('Number of nodes: {0}'.format(len(n.nodes)))\n",
        "print('Number of edges: {0}'.format(len(n.edges)))"
      ],
      "execution_count": null,
      "outputs": [
        {
          "output_type": "stream",
          "name": "stdout",
          "text": [
            "Number of nodes: 4\n",
            "Number of edges: 5\n"
          ]
        }
      ]
    },
    {
      "cell_type": "code",
      "metadata": {
        "id": "7Efjs8gZ6kvD",
        "colab": {
          "base_uri": "https://localhost:8080/"
        },
        "outputId": "aeb2f34f-cb32-4784-f8cb-a52d1b14e955"
      },
      "source": [
        "print(n.summary())"
      ],
      "execution_count": null,
      "outputs": [
        {
          "output_type": "stream",
          "name": "stdout",
          "text": [
            "Directed network\n",
            "Nodes:\t\t\t\t4\n",
            "Links:\t\t\t\t5\n",
            "\n"
          ]
        }
      ]
    },
    {
      "cell_type": "markdown",
      "metadata": {
        "id": "qQ6VAk0Q8e01"
      },
      "source": [
        "## Node and Edge objects"
      ]
    },
    {
      "cell_type": "code",
      "metadata": {
        "id": "dDrV8O_-6mMC",
        "colab": {
          "base_uri": "https://localhost:8080/"
        },
        "outputId": "89429cbb-ef70-4382-d886-b1a2f9c4cdcd"
      },
      "source": [
        "for v in n.nodes:\n",
        "    print(v)"
      ],
      "execution_count": null,
      "outputs": [
        {
          "output_type": "stream",
          "name": "stdout",
          "text": [
            "a\n",
            "b\n",
            "c\n",
            "d\n"
          ]
        }
      ]
    },
    {
      "cell_type": "code",
      "metadata": {
        "id": "56SqQT336nzh",
        "colab": {
          "base_uri": "https://localhost:8080/"
        },
        "outputId": "2ef49210-67bb-49f9-ce50-6d3efe35664c"
      },
      "source": [
        "print(n.nodes['a'])"
      ],
      "execution_count": null,
      "outputs": [
        {
          "output_type": "stream",
          "name": "stdout",
          "text": [
            "{'inweight': 1.0, 'outweight': 2.0, 'indegree': 1, 'outdegree': 2}\n"
          ]
        }
      ]
    },
    {
      "cell_type": "code",
      "metadata": {
        "id": "cBmDAQnSCRgk",
        "colab": {
          "base_uri": "https://localhost:8080/",
          "height": 421
        },
        "outputId": "f6a0c347-57b6-456c-99fe-ea27435456d8"
      },
      "source": [
        "n"
      ],
      "execution_count": null,
      "outputs": [
        {
          "output_type": "execute_result",
          "data": {
            "text/html": [
              "<style>\n",
              "    text.label_ZWjgumUu {\n",
              "        text-anchor: middle;\n",
              "        font-size: 8px;\n",
              "        font-family: Arial, Helvetica, sans-serif;\n",
              "        fill: #999999;\n",
              "        stroke: #ffffff;\n",
              "        stroke-width: 0.1px;\n",
              "        opacity: 1.0;\n",
              "    }\n",
              "    .links_ZWjgumUu line {\n",
              "    stroke-opacity: 1.0;\n",
              "    }\n",
              "    .arrows svg:path {\n",
              "        stroke: #666;\n",
              "    }\n",
              "    .nodes_ZWjgumUu circle {\n",
              "    stroke: #fff;\n",
              "    stroke-width: 0.5px;\n",
              "    }\n",
              "</style>\n",
              "\n",
              "<svg width=\"400\" height=\"400\" id=\"ZWjgumUu\">        \n",
              "    <text x=\"20\" y=\"20\" font-family=\"sans-serif\" font-size=\"14px\" fill=\"#666\" style=\"cursor: pointer\"\n",
              "        id='ZWjgumUu_svg_txt'>[save svg]</text>\n",
              "</svg>\n",
              "\n",
              "<script charset=\"utf-8\" src=\"https://d3js.org/d3.v4.min.js\"></script>\n",
              "<script charset=\"utf-8\">\n",
              "\n",
              "// Load via requireJS if available (jupyter notebook environment)\n",
              "try {\n",
              "    // Problem: require.config will raise an exception when called for the second time \n",
              "    require.config({\n",
              "        paths: {\n",
              "            //d3: \"https://d3js.org/d3.v4.min\"\n",
              "            d3: \"https://d3js.org/d3.v4.min.js\".replace(\".js\", \"\")\n",
              "        }\n",
              "    });\n",
              "    console.log(\"Detected requireJS\");\n",
              "}\n",
              "catch(err){\n",
              "    // a reference error indicates that requireJS does not exist. \n",
              "    // other errors may occur due to multiple calls to config\n",
              "    if (err instanceof ReferenceError){\n",
              "        console.log(\"Detected no requireJS\");\n",
              "\n",
              "        // Helper function that waits for d3js to be loaded\n",
              "        require = function require(symbols, callback) {\n",
              "            var ms = 5;\n",
              "            window.setTimeout(function(t) {\n",
              "                if (window[symbols[0]])\n",
              "                    callback(window[symbols[0]]);\n",
              "                else \n",
              "                    window.setTimeout(arguments.callee, ms);\n",
              "            }, ms);\n",
              "        }\n",
              "    }\n",
              "}\n",
              "\n",
              "// wait until d3js has been loaded\n",
              "require([\"d3\"], function(d3) {\n",
              "    var svg = d3.select(\"#\"+\"ZWjgumUu\"), radius = 6, width = +svg.attr(\"width\"), height = +svg.attr(\"height\");\n",
              "\n",
              "    var color = d3.scaleOrdinal(d3.schemeCategory20);\n",
              "\n",
              "    var graph = {\"links\": [{\"source\": \"a\", \"target\": \"b\", \"color\": \"#999999\", \"width\": 0.5, \"weight\": 1.0}, {\"source\": \"d\", \"target\": \"c\", \"color\": \"#999999\", \"width\": 0.5, \"weight\": 0.3333333333333333}, {\"source\": \"a\", \"target\": \"c\", \"color\": \"#999999\", \"width\": 0.5, \"weight\": 0.3333333333333333}, {\"source\": \"c\", \"target\": \"d\", \"color\": \"#999999\", \"width\": 0.5, \"weight\": 0.3333333333333333}, {\"source\": \"d\", \"target\": \"a\", \"color\": \"#999999\", \"width\": 0.5, \"weight\": 0.3333333333333333}], \"nodes\": [{\"id\": \"a\", \"text\": \"a\", \"color\": \"#99ccff\", \"size\": 5.0}, {\"id\": \"b\", \"text\": \"b\", \"color\": \"#99ccff\", \"size\": 5.0}, {\"id\": \"c\", \"text\": \"c\", \"color\": \"#99ccff\", \"size\": 5.0}, {\"id\": \"d\", \"text\": \"d\", \"color\": \"#99ccff\", \"size\": 5.0}]};\n",
              "    var directed = true;\n",
              "\n",
              "    var simulation = d3.forceSimulation()        \n",
              "       .force(\"link\", d3.forceLink().id(function(d) { return d.id; }).strength(function(d){return d.weight;}))\n",
              "        .force(\"charge\", d3.forceManyBody().strength(-20).distanceMax(400))\n",
              "       .force(\"repelForce\", d3.forceManyBody().strength(-200).distanceMax(100))\n",
              "       .force(\"center\", d3.forceCenter(400 / 2, 400 / 2))\n",
              "       .alphaTarget(0.0);\n",
              "\n",
              "    svg.append(\"defs\").selectAll(\"marker\")\n",
              "        .data([\"end\"])\n",
              "    .enter().append(\"marker\")\n",
              "        .attr(\"id\", String)\n",
              "        .attr(\"viewBox\", \"0 -5 20 20\")\n",
              "        .attr(\"refX\", 34)\n",
              "        .attr(\"refY\", 0)\n",
              "        .attr(\"markerWidth\", 15)\n",
              "        .attr(\"markerHeight\", 15)\n",
              "        .attr(\"orient\", \"auto\")\n",
              "    .append(\"path\")\n",
              "        // draws a filled path (triangle) between three points\n",
              "        .attr(\"d\", \"M0,-5 L20,0 L0,5 z\")\n",
              "        .attr(\"fill\", '#999')\n",
              "        .attr(\"stroke\", 'none');\n",
              "\n",
              "    var g = svg.append(\"g\")\n",
              "        .attr(\"class\", \"everything\");\n",
              "\n",
              "    var link = g.append(\"g\")\n",
              "        .attr(\"class\", \"links_ZWjgumUu\")\n",
              "        .selectAll(\"line\")\n",
              "        .data(graph.links)\n",
              "        .enter().append(\"line\")\n",
              "        .attr(\"stroke-width\", function(d) { return d.width; })\n",
              "        .attr(\"stroke\", function(d) { return d.color; } );\n",
              "\n",
              "    if (directed)\n",
              "        link.attr(\"marker-end\", \"url(#end)\");\n",
              "\n",
              "    var node_g = g.append(\"g\")\n",
              "        .attr(\"class\", \"nodes_ZWjgumUu\")\n",
              "        .selectAll(\"circle\")\n",
              "        .data(graph.nodes)\n",
              "        .enter()\n",
              "        .append(\"g\"); \n",
              "\n",
              "    var node = node_g.append(\"circle\")\n",
              "        .attr('id', function(d) { return d.id; })\n",
              "        .attr(\"r\", function(d) { return d.size; })\n",
              "        .attr(\"fill\", function(d) { return d.color; })\n",
              "        .call(d3.drag()\n",
              "            .on(\"start\", dragstarted)\n",
              "            .on(\"drag\", dragged)\n",
              "            .on(\"end\", dragended));\n",
              "\n",
              "    var text = node_g.append(\"text\")\n",
              "    .attr(\"x\", [0, -10][0])\n",
              "    .attr(\"y\", [0, -10][1]+3)\n",
              "    .attr(\"id\", function(d) {return d.id; })\n",
              "    .attr(\"class\", \"label_ZWjgumUu\")\n",
              "    .text(function(d) { return d.id; });\n",
              "\n",
              "    node.append(\"title\")\n",
              "        .text(function(d) { return d.text; });\n",
              "\n",
              "    var zoom_handler = d3.zoom()\n",
              "        .on(\"zoom\", zoom_actions);\n",
              "    zoom_handler(svg);\n",
              "\n",
              "    // attach event handler for svg export\n",
              "    d3.select('#ZWjgumUu_svg_txt').on(\"click\", save_svg);\n",
              "\n",
              "    simulation\n",
              "        .nodes(graph.nodes)\n",
              "        .on(\"tick\", ticked);\n",
              "\n",
              "    simulation.force(\"link\")\n",
              "        .links(graph.links);\n",
              "\n",
              "    function ticked() {\n",
              "        link.attr(\"x1\", function(d) { return d.source.x; })\n",
              "            .attr(\"y1\", function(d) { return d.source.y; })\n",
              "            .attr(\"x2\", function(d) { return d.target.x; })\n",
              "            .attr(\"y2\", function(d) { return d.target.y; });\n",
              "\n",
              "         text.attr(\"transform\", transform);\n",
              "\n",
              "\n",
              "        text.attr(\"cx\", function(d) { return d.x; })\n",
              "            .attr(\"cy\", function(d) { return d.y; });\n",
              "\n",
              "        node.attr(\"cx\", function(d) { return d.x; })\n",
              "            .attr(\"cy\", function(d) { return d.y; });\n",
              "    }\n",
              "\n",
              "    function transform(d) {\n",
              "        return \"translate(\" + d.x + \",\" + d.y + \")\";\n",
              "    }\n",
              "\n",
              "    function dragstarted(d) {\n",
              "    if (!d3.event.active) simulation.alphaTarget(0.3).restart();\n",
              "    d.fx = d.x;\n",
              "    d.fy = d.y;\n",
              "    }\n",
              "\n",
              "    function zoom_actions(){\n",
              "        g.attr(\"transform\", d3.event.transform)\n",
              "    }    \n",
              "\n",
              "    function dragged(d) {\n",
              "    d.fx = d3.event.x;\n",
              "    d.fy = d3.event.y;\n",
              "    }\n",
              "\n",
              "    function dragended(d) {\n",
              "    if (!d3.event.active) simulation.alphaTarget(0);\n",
              "    d.fx = null;\n",
              "    d.fy = null;\n",
              "    }\n",
              "\n",
              "    function to_svg() {\n",
              "        // Returns a SVG representation of the current state of the visualisation\n",
              "\t    var svg  = document.getElementById('ZWjgumUu');\n",
              "\t    var xml = (new XMLSerializer).serializeToString(svg);\n",
              "        return xml;\n",
              "    }\n",
              "\n",
              "    function save_svg() {\n",
              "        var svg  = document.getElementById('ZWjgumUu');\n",
              "        var xml = (new XMLSerializer).serializeToString(svg);        \n",
              "        var blob = new Blob([xml], {type: 'text/xml'});\n",
              "        if(window.navigator.msSaveOrOpenBlob) {\n",
              "            window.navigator.msSaveBlob(blob, 'network.svg');\n",
              "        }\n",
              "        else{\n",
              "            var elem = window.document.createElement('a');\n",
              "            elem.href = window.URL.createObjectURL(blob);\n",
              "            elem.download = 'network.svg';\n",
              "            document.body.appendChild(elem);\n",
              "            elem.click();\n",
              "            document.body.removeChild(elem);\n",
              "        }\n",
              "    }\n",
              "});\n",
              "</script>"
            ],
            "text/plain": [
              "<pathpy.classes.network.Network at 0x7f1a35ce4090>"
            ]
          },
          "metadata": {},
          "execution_count": 46
        }
      ]
    },
    {
      "cell_type": "code",
      "metadata": {
        "id": "VWKo8kk87FQS",
        "colab": {
          "base_uri": "https://localhost:8080/"
        },
        "outputId": "71058c14-2a03-44e2-8460-57c1a9b53c79"
      },
      "source": [
        "for e in n.edges:\n",
        "    print('---')\n",
        "    print(e)"
      ],
      "execution_count": null,
      "outputs": [
        {
          "output_type": "stream",
          "name": "stdout",
          "text": [
            "---\n",
            "('a', 'b')\n",
            "---\n",
            "('d', 'c')\n",
            "---\n",
            "('a', 'c')\n",
            "---\n",
            "('c', 'd')\n",
            "---\n",
            "('d', 'a')\n"
          ]
        }
      ]
    },
    {
      "cell_type": "markdown",
      "metadata": {
        "id": "adTgripj8N60"
      },
      "source": [
        "## **Networks, Nodes and Edges with attributes**"
      ]
    },
    {
      "cell_type": "code",
      "metadata": {
        "id": "OjyjLzXY8NPc",
        "colab": {
          "base_uri": "https://localhost:8080/"
        },
        "outputId": "7c631a7b-731b-418a-a89a-b948a79b9c11"
      },
      "source": [
        "trolls = pp.Network(directed=False)\n",
        "trolls.add_node('t')\n",
        "trolls.add_node('b')\n",
        "trolls.add_node('w')\n",
        "trolls.add_edge('t', 'b', uid='t-b')\n",
        "trolls.add_edge('t', 'w', uid='t-w')\n",
        "print(trolls)"
      ],
      "execution_count": null,
      "outputs": [
        {
          "output_type": "stream",
          "name": "stdout",
          "text": [
            "Undirected network\n",
            "Nodes:\t\t\t\t3\n",
            "Links:\t\t\t\t2\n",
            "\n"
          ]
        }
      ]
    },
    {
      "cell_type": "code",
      "metadata": {
        "id": "BGNH2lWd7XjV"
      },
      "source": [
        "trolls.nodes['t']['name'] = 'Tom'\n",
        "trolls.nodes['t']['age'] = 156\n",
        "trolls.nodes['b']['name'] = 'Bert'\n",
        "trolls.nodes['b']['age'] = 96\n",
        "trolls.nodes['w']['name'] = 'William'\n",
        "trolls.nodes['w']['age'] = 323"
      ],
      "execution_count": null,
      "outputs": []
    },
    {
      "cell_type": "code",
      "metadata": {
        "id": "5Ie_k-a-7axL"
      },
      "source": [
        "trolls.edges['t-b']['strength'] = 2.0\n",
        "trolls.edges['t-b']['type'] = 'like'\n",
        "trolls.edges['t-w']['strength'] = 5.0\n",
        "trolls.edges['t-w']['type'] = 'dislike'"
      ],
      "execution_count": null,
      "outputs": []
    },
    {
      "cell_type": "code",
      "metadata": {
        "id": "2FIHA8IdFGRX",
        "colab": {
          "base_uri": "https://localhost:8080/"
        },
        "outputId": "b7228dbf-0c15-4732-ad43-90480835a8c4"
      },
      "source": [
        "print(trolls.edges['t-b'])\n",
        "print(trolls.edges['t-w'])\n"
      ],
      "execution_count": null,
      "outputs": [
        {
          "output_type": "stream",
          "name": "stdout",
          "text": [
            "{'strength': 2.0, 'type': 'like'}\n",
            "{'strength': 5.0, 'type': 'dislike'}\n"
          ]
        }
      ]
    },
    {
      "cell_type": "code",
      "metadata": {
        "id": "pH9e0QX3R-9i",
        "colab": {
          "base_uri": "https://localhost:8080/"
        },
        "outputId": "2d3450d5-ddfd-438f-f4f3-7e73eac13ff4"
      },
      "source": [
        "nx = pp.Network()\n",
        "nx.add_edge('a', 'b')\n",
        "nx.add_edge('b', 'a')\n",
        "nx.add_edge('b', 'c')\n",
        "nx.add_edge('d', 'c')\n",
        "nx.add_edge('c', 'd')\n",
        "nx.add_edge('c', 'b')\n",
        "print(nx)"
      ],
      "execution_count": null,
      "outputs": [
        {
          "output_type": "stream",
          "name": "stdout",
          "text": [
            "Undirected network\n",
            "Nodes:\t\t\t\t4\n",
            "Links:\t\t\t\t3\n",
            "\n"
          ]
        }
      ]
    },
    {
      "cell_type": "code",
      "metadata": {
        "id": "p2YSu2OESMWF",
        "colab": {
          "base_uri": "https://localhost:8080/"
        },
        "outputId": "f4c06965-995f-4bb4-bf7e-89d1e5e25008"
      },
      "source": [
        "print(nx.edges[('a', 'b')]['weight'])"
      ],
      "execution_count": null,
      "outputs": [
        {
          "output_type": "stream",
          "name": "stdout",
          "text": [
            "1.0\n"
          ]
        }
      ]
    },
    {
      "cell_type": "code",
      "metadata": {
        "id": "WVrwgherSTvV",
        "colab": {
          "base_uri": "https://localhost:8080/"
        },
        "outputId": "bc687b32-c80a-40d7-d0f6-a4f6b65b12fe"
      },
      "source": [
        "nx.add_edge('a','b', weight = 2.0)\n",
        "print(nx.edges[('a', 'b')]['weight'])"
      ],
      "execution_count": null,
      "outputs": [
        {
          "output_type": "stream",
          "name": "stdout",
          "text": [
            "2.0\n"
          ]
        }
      ]
    },
    {
      "cell_type": "code",
      "metadata": {
        "id": "U_Eg0lW3SWJg",
        "colab": {
          "base_uri": "https://localhost:8080/"
        },
        "outputId": "2fd40fce-72dc-4918-a644-501688962399"
      },
      "source": [
        "nx.adjacency_matrix().todense()"
      ],
      "execution_count": null,
      "outputs": [
        {
          "output_type": "execute_result",
          "data": {
            "text/plain": [
              "matrix([[0., 2., 0., 0.],\n",
              "        [2., 0., 1., 0.],\n",
              "        [0., 1., 0., 1.],\n",
              "        [0., 0., 1., 0.]])"
            ]
          },
          "metadata": {},
          "execution_count": 55
        }
      ]
    },
    {
      "cell_type": "code",
      "metadata": {
        "id": "ti2z04UhS1tq",
        "colab": {
          "base_uri": "https://localhost:8080/"
        },
        "outputId": "c3af2811-7f30-41d6-91de-7a822e62e563"
      },
      "source": [
        "print(nx.degrees())\n",
        "print(nx.ecount())\n",
        "print(nx.ncount())"
      ],
      "execution_count": null,
      "outputs": [
        {
          "output_type": "stream",
          "name": "stdout",
          "text": [
            "[1, 2, 2, 1]\n",
            "3\n",
            "4\n"
          ]
        }
      ]
    },
    {
      "cell_type": "markdown",
      "metadata": {
        "id": "rh8PapE7CvpT"
      },
      "source": [
        "## **Clustering coefficient**"
      ]
    },
    {
      "cell_type": "code",
      "metadata": {
        "id": "xfiDufqr92UP",
        "colab": {
          "base_uri": "https://localhost:8080/"
        },
        "outputId": "9801b378-187c-484d-93f1-0c9208a19775"
      },
      "source": [
        "\n",
        "import matplotlib.pyplot as plt\n",
        "\n",
        "n = pp.Network(directed=True)\n",
        "n.add_edge('a', 'b')\n",
        "n.add_edge('b', 'c')\n",
        "n.add_edge('a', 'c')\n",
        "n.add_edge('c', 'd')\n",
        "n.add_edge('d', 'e')\n",
        "n.add_edge('d', 'f')\n",
        "n.add_edge('e', 'f')\n",
        "n.add_edge('k', 'e')\n",
        "n.add_edge('a', 'd')\n",
        "\n",
        "n"
      ],
      "execution_count": null,
      "outputs": [
        {
          "output_type": "execute_result",
          "data": {
            "text/html": [
              "<style>\n",
              "    text.label_RzjDzXsC {\n",
              "        text-anchor: middle;\n",
              "        font-size: 8px;\n",
              "        font-family: Arial, Helvetica, sans-serif;\n",
              "        fill: #999999;\n",
              "        stroke: #ffffff;\n",
              "        stroke-width: 0.1px;\n",
              "        opacity: 1.0;\n",
              "    }\n",
              "    .links_RzjDzXsC line {\n",
              "    stroke-opacity: 1.0;\n",
              "    }\n",
              "    .arrows svg:path {\n",
              "        stroke: #666;\n",
              "    }\n",
              "    .nodes_RzjDzXsC circle {\n",
              "    stroke: #fff;\n",
              "    stroke-width: 0.5px;\n",
              "    }\n",
              "</style>\n",
              "\n",
              "<svg width=\"400\" height=\"400\" id=\"RzjDzXsC\">        \n",
              "    <text x=\"20\" y=\"20\" font-family=\"sans-serif\" font-size=\"14px\" fill=\"#666\" style=\"cursor: pointer\"\n",
              "        id='RzjDzXsC_svg_txt'>[save svg]</text>\n",
              "</svg>\n",
              "\n",
              "<script charset=\"utf-8\" src=\"https://d3js.org/d3.v4.min.js\"></script>\n",
              "<script charset=\"utf-8\">\n",
              "\n",
              "// Load via requireJS if available (jupyter notebook environment)\n",
              "try {\n",
              "    // Problem: require.config will raise an exception when called for the second time \n",
              "    require.config({\n",
              "        paths: {\n",
              "            //d3: \"https://d3js.org/d3.v4.min\"\n",
              "            d3: \"https://d3js.org/d3.v4.min.js\".replace(\".js\", \"\")\n",
              "        }\n",
              "    });\n",
              "    console.log(\"Detected requireJS\");\n",
              "}\n",
              "catch(err){\n",
              "    // a reference error indicates that requireJS does not exist. \n",
              "    // other errors may occur due to multiple calls to config\n",
              "    if (err instanceof ReferenceError){\n",
              "        console.log(\"Detected no requireJS\");\n",
              "\n",
              "        // Helper function that waits for d3js to be loaded\n",
              "        require = function require(symbols, callback) {\n",
              "            var ms = 5;\n",
              "            window.setTimeout(function(t) {\n",
              "                if (window[symbols[0]])\n",
              "                    callback(window[symbols[0]]);\n",
              "                else \n",
              "                    window.setTimeout(arguments.callee, ms);\n",
              "            }, ms);\n",
              "        }\n",
              "    }\n",
              "}\n",
              "\n",
              "// wait until d3js has been loaded\n",
              "require([\"d3\"], function(d3) {\n",
              "    var svg = d3.select(\"#\"+\"RzjDzXsC\"), radius = 6, width = +svg.attr(\"width\"), height = +svg.attr(\"height\");\n",
              "\n",
              "    var color = d3.scaleOrdinal(d3.schemeCategory20);\n",
              "\n",
              "    var graph = {\"links\": [{\"source\": \"a\", \"target\": \"b\", \"color\": \"#999999\", \"width\": 0.5, \"weight\": 0.5}, {\"source\": \"b\", \"target\": \"c\", \"color\": \"#999999\", \"width\": 0.5, \"weight\": 0.5}, {\"source\": \"a\", \"target\": \"c\", \"color\": \"#999999\", \"width\": 0.5, \"weight\": 0.3333333333333333}, {\"source\": \"c\", \"target\": \"d\", \"color\": \"#999999\", \"width\": 0.5, \"weight\": 0.3333333333333333}, {\"source\": \"d\", \"target\": \"e\", \"color\": \"#999999\", \"width\": 0.5, \"weight\": 0.3333333333333333}, {\"source\": \"d\", \"target\": \"f\", \"color\": \"#999999\", \"width\": 0.5, \"weight\": 0.5}, {\"source\": \"e\", \"target\": \"f\", \"color\": \"#999999\", \"width\": 0.5, \"weight\": 0.5}, {\"source\": \"k\", \"target\": \"e\", \"color\": \"#999999\", \"width\": 0.5, \"weight\": 1.0}, {\"source\": \"a\", \"target\": \"d\", \"color\": \"#999999\", \"width\": 0.5, \"weight\": 0.3333333333333333}], \"nodes\": [{\"id\": \"a\", \"text\": \"a\", \"color\": \"#99ccff\", \"size\": 5.0}, {\"id\": \"b\", \"text\": \"b\", \"color\": \"#99ccff\", \"size\": 5.0}, {\"id\": \"c\", \"text\": \"c\", \"color\": \"#99ccff\", \"size\": 5.0}, {\"id\": \"d\", \"text\": \"d\", \"color\": \"#99ccff\", \"size\": 5.0}, {\"id\": \"e\", \"text\": \"e\", \"color\": \"#99ccff\", \"size\": 5.0}, {\"id\": \"f\", \"text\": \"f\", \"color\": \"#99ccff\", \"size\": 5.0}, {\"id\": \"k\", \"text\": \"k\", \"color\": \"#99ccff\", \"size\": 5.0}]};\n",
              "    var directed = true;\n",
              "\n",
              "    var simulation = d3.forceSimulation()        \n",
              "       .force(\"link\", d3.forceLink().id(function(d) { return d.id; }).strength(function(d){return d.weight;}))\n",
              "        .force(\"charge\", d3.forceManyBody().strength(-20).distanceMax(400))\n",
              "       .force(\"repelForce\", d3.forceManyBody().strength(-200).distanceMax(100))\n",
              "       .force(\"center\", d3.forceCenter(400 / 2, 400 / 2))\n",
              "       .alphaTarget(0.0);\n",
              "\n",
              "    svg.append(\"defs\").selectAll(\"marker\")\n",
              "        .data([\"end\"])\n",
              "    .enter().append(\"marker\")\n",
              "        .attr(\"id\", String)\n",
              "        .attr(\"viewBox\", \"0 -5 20 20\")\n",
              "        .attr(\"refX\", 34)\n",
              "        .attr(\"refY\", 0)\n",
              "        .attr(\"markerWidth\", 15)\n",
              "        .attr(\"markerHeight\", 15)\n",
              "        .attr(\"orient\", \"auto\")\n",
              "    .append(\"path\")\n",
              "        // draws a filled path (triangle) between three points\n",
              "        .attr(\"d\", \"M0,-5 L20,0 L0,5 z\")\n",
              "        .attr(\"fill\", '#999')\n",
              "        .attr(\"stroke\", 'none');\n",
              "\n",
              "    var g = svg.append(\"g\")\n",
              "        .attr(\"class\", \"everything\");\n",
              "\n",
              "    var link = g.append(\"g\")\n",
              "        .attr(\"class\", \"links_RzjDzXsC\")\n",
              "        .selectAll(\"line\")\n",
              "        .data(graph.links)\n",
              "        .enter().append(\"line\")\n",
              "        .attr(\"stroke-width\", function(d) { return d.width; })\n",
              "        .attr(\"stroke\", function(d) { return d.color; } );\n",
              "\n",
              "    if (directed)\n",
              "        link.attr(\"marker-end\", \"url(#end)\");\n",
              "\n",
              "    var node_g = g.append(\"g\")\n",
              "        .attr(\"class\", \"nodes_RzjDzXsC\")\n",
              "        .selectAll(\"circle\")\n",
              "        .data(graph.nodes)\n",
              "        .enter()\n",
              "        .append(\"g\"); \n",
              "\n",
              "    var node = node_g.append(\"circle\")\n",
              "        .attr('id', function(d) { return d.id; })\n",
              "        .attr(\"r\", function(d) { return d.size; })\n",
              "        .attr(\"fill\", function(d) { return d.color; })\n",
              "        .call(d3.drag()\n",
              "            .on(\"start\", dragstarted)\n",
              "            .on(\"drag\", dragged)\n",
              "            .on(\"end\", dragended));\n",
              "\n",
              "    var text = node_g.append(\"text\")\n",
              "    .attr(\"x\", [0, -10][0])\n",
              "    .attr(\"y\", [0, -10][1]+3)\n",
              "    .attr(\"id\", function(d) {return d.id; })\n",
              "    .attr(\"class\", \"label_RzjDzXsC\")\n",
              "    .text(function(d) { return d.id; });\n",
              "\n",
              "    node.append(\"title\")\n",
              "        .text(function(d) { return d.text; });\n",
              "\n",
              "    var zoom_handler = d3.zoom()\n",
              "        .on(\"zoom\", zoom_actions);\n",
              "    zoom_handler(svg);\n",
              "\n",
              "    // attach event handler for svg export\n",
              "    d3.select('#RzjDzXsC_svg_txt').on(\"click\", save_svg);\n",
              "\n",
              "    simulation\n",
              "        .nodes(graph.nodes)\n",
              "        .on(\"tick\", ticked);\n",
              "\n",
              "    simulation.force(\"link\")\n",
              "        .links(graph.links);\n",
              "\n",
              "    function ticked() {\n",
              "        link.attr(\"x1\", function(d) { return d.source.x; })\n",
              "            .attr(\"y1\", function(d) { return d.source.y; })\n",
              "            .attr(\"x2\", function(d) { return d.target.x; })\n",
              "            .attr(\"y2\", function(d) { return d.target.y; });\n",
              "\n",
              "         text.attr(\"transform\", transform);\n",
              "\n",
              "\n",
              "        text.attr(\"cx\", function(d) { return d.x; })\n",
              "            .attr(\"cy\", function(d) { return d.y; });\n",
              "\n",
              "        node.attr(\"cx\", function(d) { return d.x; })\n",
              "            .attr(\"cy\", function(d) { return d.y; });\n",
              "    }\n",
              "\n",
              "    function transform(d) {\n",
              "        return \"translate(\" + d.x + \",\" + d.y + \")\";\n",
              "    }\n",
              "\n",
              "    function dragstarted(d) {\n",
              "    if (!d3.event.active) simulation.alphaTarget(0.3).restart();\n",
              "    d.fx = d.x;\n",
              "    d.fy = d.y;\n",
              "    }\n",
              "\n",
              "    function zoom_actions(){\n",
              "        g.attr(\"transform\", d3.event.transform)\n",
              "    }    \n",
              "\n",
              "    function dragged(d) {\n",
              "    d.fx = d3.event.x;\n",
              "    d.fy = d3.event.y;\n",
              "    }\n",
              "\n",
              "    function dragended(d) {\n",
              "    if (!d3.event.active) simulation.alphaTarget(0);\n",
              "    d.fx = null;\n",
              "    d.fy = null;\n",
              "    }\n",
              "\n",
              "    function to_svg() {\n",
              "        // Returns a SVG representation of the current state of the visualisation\n",
              "\t    var svg  = document.getElementById('RzjDzXsC');\n",
              "\t    var xml = (new XMLSerializer).serializeToString(svg);\n",
              "        return xml;\n",
              "    }\n",
              "\n",
              "    function save_svg() {\n",
              "        var svg  = document.getElementById('RzjDzXsC');\n",
              "        var xml = (new XMLSerializer).serializeToString(svg);        \n",
              "        var blob = new Blob([xml], {type: 'text/xml'});\n",
              "        if(window.navigator.msSaveOrOpenBlob) {\n",
              "            window.navigator.msSaveBlob(blob, 'network.svg');\n",
              "        }\n",
              "        else{\n",
              "            var elem = window.document.createElement('a');\n",
              "            elem.href = window.URL.createObjectURL(blob);\n",
              "            elem.download = 'network.svg';\n",
              "            document.body.appendChild(elem);\n",
              "            elem.click();\n",
              "            document.body.removeChild(elem);\n",
              "        }\n",
              "    }\n",
              "});\n",
              "</script>"
            ],
            "text/plain": [
              "<pathpy.classes.network.Network at 0x7f1a21b23310>"
            ]
          },
          "metadata": {},
          "execution_count": 57
        }
      ]
    },
    {
      "cell_type": "code",
      "metadata": {
        "id": "Lw1WY1pq8Nc_"
      },
      "source": [
        "def local_cluster_coef(network, v):\n",
        "  if network.directed and network.nodes[v]['outweight'] < 2:\n",
        "      return 0.0\n",
        "  if not network.directed and network.nodes[v]['degree'] < 2:\n",
        "      return 0.0\n",
        "  k_i = 0.0\n",
        "  for i in network.successors[v]:\n",
        "      for j in network.successors[v]:\n",
        "          if (i, j) in network.edges:\n",
        "              k_i += 1.0\n",
        "  if not network.directed:\n",
        "      return k_i/(network.nodes[v]['degree']*(network.nodes[v]['degree']-1.0))\n",
        "  return k_i/(network.nodes[v]['outweight']*(network.nodes[v]['outweight']-1.0))"
      ],
      "execution_count": null,
      "outputs": []
    },
    {
      "cell_type": "code",
      "metadata": {
        "id": "hzUzfQg6ALFo",
        "colab": {
          "base_uri": "https://localhost:8080/"
        },
        "outputId": "ff12eb2b-cd2b-427c-f0e1-f02915a05591"
      },
      "source": [
        "n.successors"
      ],
      "execution_count": null,
      "outputs": [
        {
          "output_type": "execute_result",
          "data": {
            "text/plain": [
              "defaultdict(set,\n",
              "            {'a': {'b', 'c', 'd'},\n",
              "             'b': {'c'},\n",
              "             'c': {'d'},\n",
              "             'd': {'e', 'f'},\n",
              "             'e': {'f'},\n",
              "             'f': set(),\n",
              "             'k': {'e'}})"
            ]
          },
          "metadata": {},
          "execution_count": 59
        }
      ]
    },
    {
      "cell_type": "code",
      "metadata": {
        "id": "TutIcBd6_qAI",
        "colab": {
          "base_uri": "https://localhost:8080/"
        },
        "outputId": "531ea0f0-04a6-41fa-a7a6-6ff4f114839c"
      },
      "source": [
        "v = 'k'\n",
        "local_cluster_coef(n, v)\n"
      ],
      "execution_count": null,
      "outputs": [
        {
          "output_type": "execute_result",
          "data": {
            "text/plain": [
              "0.0"
            ]
          },
          "metadata": {},
          "execution_count": 60
        }
      ]
    },
    {
      "cell_type": "markdown",
      "metadata": {
        "id": "VQdzRa-xH2U7"
      },
      "source": [
        "## **Interactive network visualisation in jupyter**"
      ]
    },
    {
      "cell_type": "code",
      "metadata": {
        "id": "iExP65B0FIXX"
      },
      "source": [
        "import pandas as pd\n",
        "import sqlite3"
      ],
      "execution_count": null,
      "outputs": []
    },
    {
      "cell_type": "code",
      "metadata": {
        "id": "te6KBaClUzpL",
        "colab": {
          "base_uri": "https://localhost:8080/"
        },
        "outputId": "00b2dd02-f68c-485b-9948-4fe2e5c0ffd5"
      },
      "source": [
        "params = {'label_color': '#ff0400',\n",
        "          'label_size': '20',\n",
        "          'node_color': { 'a': '#dd0000', 'b': '#00ff00', 'c': '#0d00ff', },\n",
        "          'node_size': { 'a': '5', 'b': '10', 'c': '20'}\n",
        "          }\n",
        "pp.visualisation.plot(n, **params)"
      ],
      "execution_count": null,
      "outputs": [
        {
          "output_type": "display_data",
          "data": {
            "text/html": [
              "<style>\n",
              "    text.label_uwpOXeUQ {\n",
              "        text-anchor: middle;\n",
              "        font-size: 20;\n",
              "        font-family: Arial, Helvetica, sans-serif;\n",
              "        fill: #ff0400;\n",
              "        stroke: #ffffff;\n",
              "        stroke-width: 0.1px;\n",
              "        opacity: 1.0;\n",
              "    }\n",
              "    .links_uwpOXeUQ line {\n",
              "    stroke-opacity: 1.0;\n",
              "    }\n",
              "    .arrows svg:path {\n",
              "        stroke: #666;\n",
              "    }\n",
              "    .nodes_uwpOXeUQ circle {\n",
              "    stroke: #fff;\n",
              "    stroke-width: 0.5px;\n",
              "    }\n",
              "</style>\n",
              "\n",
              "<svg width=\"400\" height=\"400\" id=\"uwpOXeUQ\">        \n",
              "    <text x=\"20\" y=\"20\" font-family=\"sans-serif\" font-size=\"14px\" fill=\"#666\" style=\"cursor: pointer\"\n",
              "        id='uwpOXeUQ_svg_txt'>[save svg]</text>\n",
              "</svg>\n",
              "\n",
              "<script charset=\"utf-8\" src=\"https://d3js.org/d3.v4.min.js\"></script>\n",
              "<script charset=\"utf-8\">\n",
              "\n",
              "// Load via requireJS if available (jupyter notebook environment)\n",
              "try {\n",
              "    // Problem: require.config will raise an exception when called for the second time \n",
              "    require.config({\n",
              "        paths: {\n",
              "            //d3: \"https://d3js.org/d3.v4.min\"\n",
              "            d3: \"https://d3js.org/d3.v4.min.js\".replace(\".js\", \"\")\n",
              "        }\n",
              "    });\n",
              "    console.log(\"Detected requireJS\");\n",
              "}\n",
              "catch(err){\n",
              "    // a reference error indicates that requireJS does not exist. \n",
              "    // other errors may occur due to multiple calls to config\n",
              "    if (err instanceof ReferenceError){\n",
              "        console.log(\"Detected no requireJS\");\n",
              "\n",
              "        // Helper function that waits for d3js to be loaded\n",
              "        require = function require(symbols, callback) {\n",
              "            var ms = 5;\n",
              "            window.setTimeout(function(t) {\n",
              "                if (window[symbols[0]])\n",
              "                    callback(window[symbols[0]]);\n",
              "                else \n",
              "                    window.setTimeout(arguments.callee, ms);\n",
              "            }, ms);\n",
              "        }\n",
              "    }\n",
              "}\n",
              "\n",
              "// wait until d3js has been loaded\n",
              "require([\"d3\"], function(d3) {\n",
              "    var svg = d3.select(\"#\"+\"uwpOXeUQ\"), radius = 6, width = +svg.attr(\"width\"), height = +svg.attr(\"height\");\n",
              "\n",
              "    var color = d3.scaleOrdinal(d3.schemeCategory20);\n",
              "\n",
              "    var graph = {\"links\": [{\"source\": \"a\", \"target\": \"b\", \"color\": \"#999999\", \"width\": 0.5, \"weight\": 0.5}, {\"source\": \"b\", \"target\": \"c\", \"color\": \"#999999\", \"width\": 0.5, \"weight\": 0.5}, {\"source\": \"a\", \"target\": \"c\", \"color\": \"#999999\", \"width\": 0.5, \"weight\": 0.3333333333333333}, {\"source\": \"c\", \"target\": \"d\", \"color\": \"#999999\", \"width\": 0.5, \"weight\": 0.3333333333333333}, {\"source\": \"d\", \"target\": \"e\", \"color\": \"#999999\", \"width\": 0.5, \"weight\": 0.3333333333333333}, {\"source\": \"d\", \"target\": \"f\", \"color\": \"#999999\", \"width\": 0.5, \"weight\": 0.5}, {\"source\": \"e\", \"target\": \"f\", \"color\": \"#999999\", \"width\": 0.5, \"weight\": 0.5}, {\"source\": \"k\", \"target\": \"e\", \"color\": \"#999999\", \"width\": 0.5, \"weight\": 1.0}, {\"source\": \"a\", \"target\": \"d\", \"color\": \"#999999\", \"width\": 0.5, \"weight\": 0.3333333333333333}], \"nodes\": [{\"id\": \"a\", \"text\": \"a\", \"color\": \"#dd0000\", \"size\": \"5\"}, {\"id\": \"b\", \"text\": \"b\", \"color\": \"#00ff00\", \"size\": \"10\"}, {\"id\": \"c\", \"text\": \"c\", \"color\": \"#0d00ff\", \"size\": \"20\"}, {\"id\": \"d\", \"text\": \"d\", \"color\": \"#99ccff\", \"size\": 5.0}, {\"id\": \"e\", \"text\": \"e\", \"color\": \"#99ccff\", \"size\": 5.0}, {\"id\": \"f\", \"text\": \"f\", \"color\": \"#99ccff\", \"size\": 5.0}, {\"id\": \"k\", \"text\": \"k\", \"color\": \"#99ccff\", \"size\": 5.0}]};\n",
              "    var directed = true;\n",
              "\n",
              "    var simulation = d3.forceSimulation()        \n",
              "       .force(\"link\", d3.forceLink().id(function(d) { return d.id; }).strength(function(d){return d.weight;}))\n",
              "        .force(\"charge\", d3.forceManyBody().strength(-20).distanceMax(400))\n",
              "       .force(\"repelForce\", d3.forceManyBody().strength(-200).distanceMax(100))\n",
              "       .force(\"center\", d3.forceCenter(400 / 2, 400 / 2))\n",
              "       .alphaTarget(0.0);\n",
              "\n",
              "    svg.append(\"defs\").selectAll(\"marker\")\n",
              "        .data([\"end\"])\n",
              "    .enter().append(\"marker\")\n",
              "        .attr(\"id\", String)\n",
              "        .attr(\"viewBox\", \"0 -5 20 20\")\n",
              "        .attr(\"refX\", 34)\n",
              "        .attr(\"refY\", 0)\n",
              "        .attr(\"markerWidth\", 15)\n",
              "        .attr(\"markerHeight\", 15)\n",
              "        .attr(\"orient\", \"auto\")\n",
              "    .append(\"path\")\n",
              "        // draws a filled path (triangle) between three points\n",
              "        .attr(\"d\", \"M0,-5 L20,0 L0,5 z\")\n",
              "        .attr(\"fill\", '#999')\n",
              "        .attr(\"stroke\", 'none');\n",
              "\n",
              "    var g = svg.append(\"g\")\n",
              "        .attr(\"class\", \"everything\");\n",
              "\n",
              "    var link = g.append(\"g\")\n",
              "        .attr(\"class\", \"links_uwpOXeUQ\")\n",
              "        .selectAll(\"line\")\n",
              "        .data(graph.links)\n",
              "        .enter().append(\"line\")\n",
              "        .attr(\"stroke-width\", function(d) { return d.width; })\n",
              "        .attr(\"stroke\", function(d) { return d.color; } );\n",
              "\n",
              "    if (directed)\n",
              "        link.attr(\"marker-end\", \"url(#end)\");\n",
              "\n",
              "    var node_g = g.append(\"g\")\n",
              "        .attr(\"class\", \"nodes_uwpOXeUQ\")\n",
              "        .selectAll(\"circle\")\n",
              "        .data(graph.nodes)\n",
              "        .enter()\n",
              "        .append(\"g\"); \n",
              "\n",
              "    var node = node_g.append(\"circle\")\n",
              "        .attr('id', function(d) { return d.id; })\n",
              "        .attr(\"r\", function(d) { return d.size; })\n",
              "        .attr(\"fill\", function(d) { return d.color; })\n",
              "        .call(d3.drag()\n",
              "            .on(\"start\", dragstarted)\n",
              "            .on(\"drag\", dragged)\n",
              "            .on(\"end\", dragended));\n",
              "\n",
              "    var text = node_g.append(\"text\")\n",
              "    .attr(\"x\", [0, -10][0])\n",
              "    .attr(\"y\", [0, -10][1]+3)\n",
              "    .attr(\"id\", function(d) {return d.id; })\n",
              "    .attr(\"class\", \"label_uwpOXeUQ\")\n",
              "    .text(function(d) { return d.id; });\n",
              "\n",
              "    node.append(\"title\")\n",
              "        .text(function(d) { return d.text; });\n",
              "\n",
              "    var zoom_handler = d3.zoom()\n",
              "        .on(\"zoom\", zoom_actions);\n",
              "    zoom_handler(svg);\n",
              "\n",
              "    // attach event handler for svg export\n",
              "    d3.select('#uwpOXeUQ_svg_txt').on(\"click\", save_svg);\n",
              "\n",
              "    simulation\n",
              "        .nodes(graph.nodes)\n",
              "        .on(\"tick\", ticked);\n",
              "\n",
              "    simulation.force(\"link\")\n",
              "        .links(graph.links);\n",
              "\n",
              "    function ticked() {\n",
              "        link.attr(\"x1\", function(d) { return d.source.x; })\n",
              "            .attr(\"y1\", function(d) { return d.source.y; })\n",
              "            .attr(\"x2\", function(d) { return d.target.x; })\n",
              "            .attr(\"y2\", function(d) { return d.target.y; });\n",
              "\n",
              "         text.attr(\"transform\", transform);\n",
              "\n",
              "\n",
              "        text.attr(\"cx\", function(d) { return d.x; })\n",
              "            .attr(\"cy\", function(d) { return d.y; });\n",
              "\n",
              "        node.attr(\"cx\", function(d) { return d.x; })\n",
              "            .attr(\"cy\", function(d) { return d.y; });\n",
              "    }\n",
              "\n",
              "    function transform(d) {\n",
              "        return \"translate(\" + d.x + \",\" + d.y + \")\";\n",
              "    }\n",
              "\n",
              "    function dragstarted(d) {\n",
              "    if (!d3.event.active) simulation.alphaTarget(0.3).restart();\n",
              "    d.fx = d.x;\n",
              "    d.fy = d.y;\n",
              "    }\n",
              "\n",
              "    function zoom_actions(){\n",
              "        g.attr(\"transform\", d3.event.transform)\n",
              "    }    \n",
              "\n",
              "    function dragged(d) {\n",
              "    d.fx = d3.event.x;\n",
              "    d.fy = d3.event.y;\n",
              "    }\n",
              "\n",
              "    function dragended(d) {\n",
              "    if (!d3.event.active) simulation.alphaTarget(0);\n",
              "    d.fx = null;\n",
              "    d.fy = null;\n",
              "    }\n",
              "\n",
              "    function to_svg() {\n",
              "        // Returns a SVG representation of the current state of the visualisation\n",
              "\t    var svg  = document.getElementById('uwpOXeUQ');\n",
              "\t    var xml = (new XMLSerializer).serializeToString(svg);\n",
              "        return xml;\n",
              "    }\n",
              "\n",
              "    function save_svg() {\n",
              "        var svg  = document.getElementById('uwpOXeUQ');\n",
              "        var xml = (new XMLSerializer).serializeToString(svg);        \n",
              "        var blob = new Blob([xml], {type: 'text/xml'});\n",
              "        if(window.navigator.msSaveOrOpenBlob) {\n",
              "            window.navigator.msSaveBlob(blob, 'network.svg');\n",
              "        }\n",
              "        else{\n",
              "            var elem = window.document.createElement('a');\n",
              "            elem.href = window.URL.createObjectURL(blob);\n",
              "            elem.download = 'network.svg';\n",
              "            document.body.appendChild(elem);\n",
              "            elem.click();\n",
              "            document.body.removeChild(elem);\n",
              "        }\n",
              "    }\n",
              "});\n",
              "</script>"
            ],
            "text/plain": [
              "<IPython.core.display.HTML object>"
            ]
          },
          "metadata": {}
        }
      ]
    },
    {
      "cell_type": "code",
      "metadata": {
        "id": "pRmrEiHsoQfz",
        "colab": {
          "base_uri": "https://localhost:8080/"
        },
        "outputId": "9aa8841f-1a86-41af-bfd4-85c9f68624ec"
      },
      "source": [
        "\n",
        "n = pp.Network()\n",
        "n.add_edge(('a', 'b'), ('a', 'c'))\n",
        "print(n)"
      ],
      "execution_count": null,
      "outputs": [
        {
          "output_type": "stream",
          "name": "stdout",
          "text": [
            "Undirected network\n",
            "Nodes:\t\t\t\t2\n",
            "Links:\t\t\t\t1\n",
            "\n"
          ]
        }
      ]
    },
    {
      "cell_type": "code",
      "metadata": {
        "id": "nJxKNCC4oa8q",
        "colab": {
          "base_uri": "https://localhost:8080/"
        },
        "outputId": "c27c1df1-0704-4b8b-f60a-10ff23f0ef3f"
      },
      "source": [
        "n"
      ],
      "execution_count": null,
      "outputs": [
        {
          "output_type": "execute_result",
          "data": {
            "text/html": [
              "<style>\n",
              "    text.label_HVaRpDpV {\n",
              "        text-anchor: middle;\n",
              "        font-size: 8px;\n",
              "        font-family: Arial, Helvetica, sans-serif;\n",
              "        fill: #999999;\n",
              "        stroke: #ffffff;\n",
              "        stroke-width: 0.1px;\n",
              "        opacity: 1.0;\n",
              "    }\n",
              "    .links_HVaRpDpV line {\n",
              "    stroke-opacity: 1.0;\n",
              "    }\n",
              "    .arrows svg:path {\n",
              "        stroke: #666;\n",
              "    }\n",
              "    .nodes_HVaRpDpV circle {\n",
              "    stroke: #fff;\n",
              "    stroke-width: 0.5px;\n",
              "    }\n",
              "</style>\n",
              "\n",
              "<svg width=\"400\" height=\"400\" id=\"HVaRpDpV\">        \n",
              "    <text x=\"20\" y=\"20\" font-family=\"sans-serif\" font-size=\"14px\" fill=\"#666\" style=\"cursor: pointer\"\n",
              "        id='HVaRpDpV_svg_txt'>[save svg]</text>\n",
              "</svg>\n",
              "\n",
              "<script charset=\"utf-8\" src=\"https://d3js.org/d3.v4.min.js\"></script>\n",
              "<script charset=\"utf-8\">\n",
              "\n",
              "// Load via requireJS if available (jupyter notebook environment)\n",
              "try {\n",
              "    // Problem: require.config will raise an exception when called for the second time \n",
              "    require.config({\n",
              "        paths: {\n",
              "            //d3: \"https://d3js.org/d3.v4.min\"\n",
              "            d3: \"https://d3js.org/d3.v4.min.js\".replace(\".js\", \"\")\n",
              "        }\n",
              "    });\n",
              "    console.log(\"Detected requireJS\");\n",
              "}\n",
              "catch(err){\n",
              "    // a reference error indicates that requireJS does not exist. \n",
              "    // other errors may occur due to multiple calls to config\n",
              "    if (err instanceof ReferenceError){\n",
              "        console.log(\"Detected no requireJS\");\n",
              "\n",
              "        // Helper function that waits for d3js to be loaded\n",
              "        require = function require(symbols, callback) {\n",
              "            var ms = 5;\n",
              "            window.setTimeout(function(t) {\n",
              "                if (window[symbols[0]])\n",
              "                    callback(window[symbols[0]]);\n",
              "                else \n",
              "                    window.setTimeout(arguments.callee, ms);\n",
              "            }, ms);\n",
              "        }\n",
              "    }\n",
              "}\n",
              "\n",
              "// wait until d3js has been loaded\n",
              "require([\"d3\"], function(d3) {\n",
              "    var svg = d3.select(\"#\"+\"HVaRpDpV\"), radius = 6, width = +svg.attr(\"width\"), height = +svg.attr(\"height\");\n",
              "\n",
              "    var color = d3.scaleOrdinal(d3.schemeCategory20);\n",
              "\n",
              "    var graph = {\"links\": [{\"source\": \"('a', 'b')\", \"target\": \"('a', 'c')\", \"color\": \"#999999\", \"width\": 0.5, \"weight\": 0.5}], \"nodes\": [{\"id\": \"('a', 'b')\", \"text\": \"('a', 'b')\", \"color\": \"#99ccff\", \"size\": 5.0}, {\"id\": \"('a', 'c')\", \"text\": \"('a', 'c')\", \"color\": \"#99ccff\", \"size\": 5.0}]};\n",
              "    var directed = false;\n",
              "\n",
              "    var simulation = d3.forceSimulation()        \n",
              "       .force(\"link\", d3.forceLink().id(function(d) { return d.id; }).strength(function(d){return d.weight;}))\n",
              "        .force(\"charge\", d3.forceManyBody().strength(-20).distanceMax(400))\n",
              "       .force(\"repelForce\", d3.forceManyBody().strength(-200).distanceMax(100))\n",
              "       .force(\"center\", d3.forceCenter(400 / 2, 400 / 2))\n",
              "       .alphaTarget(0.0);\n",
              "\n",
              "    svg.append(\"defs\").selectAll(\"marker\")\n",
              "        .data([\"end\"])\n",
              "    .enter().append(\"marker\")\n",
              "        .attr(\"id\", String)\n",
              "        .attr(\"viewBox\", \"0 -5 20 20\")\n",
              "        .attr(\"refX\", 34)\n",
              "        .attr(\"refY\", 0)\n",
              "        .attr(\"markerWidth\", 15)\n",
              "        .attr(\"markerHeight\", 15)\n",
              "        .attr(\"orient\", \"auto\")\n",
              "    .append(\"path\")\n",
              "        // draws a filled path (triangle) between three points\n",
              "        .attr(\"d\", \"M0,-5 L20,0 L0,5 z\")\n",
              "        .attr(\"fill\", '#999')\n",
              "        .attr(\"stroke\", 'none');\n",
              "\n",
              "    var g = svg.append(\"g\")\n",
              "        .attr(\"class\", \"everything\");\n",
              "\n",
              "    var link = g.append(\"g\")\n",
              "        .attr(\"class\", \"links_HVaRpDpV\")\n",
              "        .selectAll(\"line\")\n",
              "        .data(graph.links)\n",
              "        .enter().append(\"line\")\n",
              "        .attr(\"stroke-width\", function(d) { return d.width; })\n",
              "        .attr(\"stroke\", function(d) { return d.color; } );\n",
              "\n",
              "    if (directed)\n",
              "        link.attr(\"marker-end\", \"url(#end)\");\n",
              "\n",
              "    var node_g = g.append(\"g\")\n",
              "        .attr(\"class\", \"nodes_HVaRpDpV\")\n",
              "        .selectAll(\"circle\")\n",
              "        .data(graph.nodes)\n",
              "        .enter()\n",
              "        .append(\"g\"); \n",
              "\n",
              "    var node = node_g.append(\"circle\")\n",
              "        .attr('id', function(d) { return d.id; })\n",
              "        .attr(\"r\", function(d) { return d.size; })\n",
              "        .attr(\"fill\", function(d) { return d.color; })\n",
              "        .call(d3.drag()\n",
              "            .on(\"start\", dragstarted)\n",
              "            .on(\"drag\", dragged)\n",
              "            .on(\"end\", dragended));\n",
              "\n",
              "    var text = node_g.append(\"text\")\n",
              "    .attr(\"x\", [0, -10][0])\n",
              "    .attr(\"y\", [0, -10][1]+3)\n",
              "    .attr(\"id\", function(d) {return d.id; })\n",
              "    .attr(\"class\", \"label_HVaRpDpV\")\n",
              "    .text(function(d) { return d.id; });\n",
              "\n",
              "    node.append(\"title\")\n",
              "        .text(function(d) { return d.text; });\n",
              "\n",
              "    var zoom_handler = d3.zoom()\n",
              "        .on(\"zoom\", zoom_actions);\n",
              "    zoom_handler(svg);\n",
              "\n",
              "    // attach event handler for svg export\n",
              "    d3.select('#HVaRpDpV_svg_txt').on(\"click\", save_svg);\n",
              "\n",
              "    simulation\n",
              "        .nodes(graph.nodes)\n",
              "        .on(\"tick\", ticked);\n",
              "\n",
              "    simulation.force(\"link\")\n",
              "        .links(graph.links);\n",
              "\n",
              "    function ticked() {\n",
              "        link.attr(\"x1\", function(d) { return d.source.x; })\n",
              "            .attr(\"y1\", function(d) { return d.source.y; })\n",
              "            .attr(\"x2\", function(d) { return d.target.x; })\n",
              "            .attr(\"y2\", function(d) { return d.target.y; });\n",
              "\n",
              "         text.attr(\"transform\", transform);\n",
              "\n",
              "\n",
              "        text.attr(\"cx\", function(d) { return d.x; })\n",
              "            .attr(\"cy\", function(d) { return d.y; });\n",
              "\n",
              "        node.attr(\"cx\", function(d) { return d.x; })\n",
              "            .attr(\"cy\", function(d) { return d.y; });\n",
              "    }\n",
              "\n",
              "    function transform(d) {\n",
              "        return \"translate(\" + d.x + \",\" + d.y + \")\";\n",
              "    }\n",
              "\n",
              "    function dragstarted(d) {\n",
              "    if (!d3.event.active) simulation.alphaTarget(0.3).restart();\n",
              "    d.fx = d.x;\n",
              "    d.fy = d.y;\n",
              "    }\n",
              "\n",
              "    function zoom_actions(){\n",
              "        g.attr(\"transform\", d3.event.transform)\n",
              "    }    \n",
              "\n",
              "    function dragged(d) {\n",
              "    d.fx = d3.event.x;\n",
              "    d.fy = d3.event.y;\n",
              "    }\n",
              "\n",
              "    function dragended(d) {\n",
              "    if (!d3.event.active) simulation.alphaTarget(0);\n",
              "    d.fx = null;\n",
              "    d.fy = null;\n",
              "    }\n",
              "\n",
              "    function to_svg() {\n",
              "        // Returns a SVG representation of the current state of the visualisation\n",
              "\t    var svg  = document.getElementById('HVaRpDpV');\n",
              "\t    var xml = (new XMLSerializer).serializeToString(svg);\n",
              "        return xml;\n",
              "    }\n",
              "\n",
              "    function save_svg() {\n",
              "        var svg  = document.getElementById('HVaRpDpV');\n",
              "        var xml = (new XMLSerializer).serializeToString(svg);        \n",
              "        var blob = new Blob([xml], {type: 'text/xml'});\n",
              "        if(window.navigator.msSaveOrOpenBlob) {\n",
              "            window.navigator.msSaveBlob(blob, 'network.svg');\n",
              "        }\n",
              "        else{\n",
              "            var elem = window.document.createElement('a');\n",
              "            elem.href = window.URL.createObjectURL(blob);\n",
              "            elem.download = 'network.svg';\n",
              "            document.body.appendChild(elem);\n",
              "            elem.click();\n",
              "            document.body.removeChild(elem);\n",
              "        }\n",
              "    }\n",
              "});\n",
              "</script>"
            ],
            "text/plain": [
              "<pathpy.classes.network.Network at 0x7f1a21b6a810>"
            ]
          },
          "metadata": {},
          "execution_count": 64
        }
      ]
    },
    {
      "cell_type": "markdown",
      "metadata": {
        "id": "lrk73OXaNkYE"
      },
      "source": [
        "---\n",
        "<font color='green'>Задание на лабораторную работу:</font>\n",
        "\n",
        "1. Построить ориентированный граф произвольной структуры с различным количеством узлов, изменяя их размер, цвет и аттрибуты.   \n",
        " \n",
        "1. Рассчитать матрицу смежности и коэффициент кластеризации для данной сети.  \n",
        " \n",
        "\n"
      ]
    },
    {
      "cell_type": "markdown",
      "metadata": {
        "id": "425-ZH74HVQC"
      },
      "source": [
        "---\n",
        "<font color='blue'>Задание на дом:</font>\n",
        "1. Создать свой .txt файл с набором рёбер. \n",
        "1. Загрузить с помощью Networkx (https://networkx.org/documentation/stable/index.html#).\n",
        "1. Отобразить и рассчитать характеритики сети. "
      ]
    },
    {
      "cell_type": "code",
      "metadata": {
        "id": "sA-w63Nnob4K"
      },
      "source": [
        ""
      ],
      "execution_count": null,
      "outputs": []
    }
  ]
}
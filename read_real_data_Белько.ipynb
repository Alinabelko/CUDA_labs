{
  "nbformat": 4,
  "nbformat_minor": 0,
  "metadata": {
    "colab": {
      "name": "read real data Белько.ipynb",
      "provenance": [],
      "collapsed_sections": [],
      "include_colab_link": true
    },
    "kernelspec": {
      "name": "python3",
      "display_name": "Python 3"
    },
    "language_info": {
      "name": "python"
    },
    "accelerator": "GPU"
  },
  "cells": [
    {
      "cell_type": "markdown",
      "metadata": {
        "id": "view-in-github",
        "colab_type": "text"
      },
      "source": [
        "<a href=\"https://colab.research.google.com/github/Alinabelko/CUDA_labs/blob/main/read_real_data_%D0%91%D0%B5%D0%BB%D1%8C%D0%BA%D0%BE.ipynb\" target=\"_parent\"><img src=\"https://colab.research.google.com/assets/colab-badge.svg\" alt=\"Open In Colab\"/></a>"
      ]
    },
    {
      "cell_type": "code",
      "metadata": {
        "colab": {
          "base_uri": "https://localhost:8080/"
        },
        "id": "3Jcxg95-DFb3",
        "outputId": "1aa142ac-c1dc-4ccc-b68d-3bbe690dc36f"
      },
      "source": [
        "! pip install networkx"
      ],
      "execution_count": 1,
      "outputs": [
        {
          "output_type": "stream",
          "name": "stdout",
          "text": [
            "Requirement already satisfied: networkx in /usr/local/lib/python3.7/dist-packages (2.6.3)\n"
          ]
        }
      ]
    },
    {
      "cell_type": "code",
      "metadata": {
        "id": "a5Tt11efDqtB",
        "colab": {
          "base_uri": "https://localhost:8080/"
        },
        "outputId": "4f5117e6-9e05-4ccf-d88c-5d93e2b5162a"
      },
      "source": [
        "import networkx as nx\n",
        "import matplotlib.pyplot as plt\n",
        "import random\n",
        "\n",
        "from google.colab import drive\n",
        "drive.mount('/content/drive')"
      ],
      "execution_count": 4,
      "outputs": [
        {
          "output_type": "stream",
          "name": "stdout",
          "text": [
            "Drive already mounted at /content/drive; to attempt to forcibly remount, call drive.mount(\"/content/drive\", force_remount=True).\n"
          ]
        }
      ]
    },
    {
      "cell_type": "markdown",
      "source": [
        ""
      ],
      "metadata": {
        "id": "OUEGVKTk-8nT"
      }
    },
    {
      "cell_type": "code",
      "metadata": {
        "id": "wdi_G7N1Dxod"
      },
      "source": [
        "path='/content/drive/MyDrive/Lab SNAP/gplus_combined.txt'\n",
        "G = nx.read_edgelist(path)"
      ],
      "execution_count": 5,
      "outputs": []
    },
    {
      "cell_type": "code",
      "metadata": {
        "id": "etzygOg7D3-y",
        "colab": {
          "base_uri": "https://localhost:8080/"
        },
        "outputId": "03bf4ed4-c059-40b2-9d4a-bd4a0165cc38"
      },
      "source": [
        "print(nx.info(G))"
      ],
      "execution_count": 6,
      "outputs": [
        {
          "output_type": "stream",
          "name": "stdout",
          "text": [
            "Graph with 107614 nodes and 12238285 edges\n"
          ]
        }
      ]
    },
    {
      "cell_type": "code",
      "metadata": {
        "id": "mUDx-7wxET5L",
        "colab": {
          "base_uri": "https://localhost:8080/"
        },
        "outputId": "3f64d9c3-64de-4274-9ca2-da0180b3e472"
      },
      "source": [
        "print(nx.number_of_nodes(G))\n",
        "print(nx.number_of_edges(G))"
      ],
      "execution_count": 12,
      "outputs": [
        {
          "output_type": "stream",
          "name": "stdout",
          "text": [
            "107614\n",
            "12238285\n"
          ]
        }
      ]
    },
    {
      "cell_type": "code",
      "metadata": {
        "id": "dnZXwlMIEhif",
        "colab": {
          "base_uri": "https://localhost:8080/"
        },
        "outputId": "13b23535-12ba-4742-b044-2f546ff979f0"
      },
      "source": [
        "print(nx.is_directed(G))"
      ],
      "execution_count": 13,
      "outputs": [
        {
          "output_type": "stream",
          "name": "stdout",
          "text": [
            "False\n"
          ]
        }
      ]
    },
    {
      "cell_type": "code",
      "metadata": {
        "id": "9l1DsOsWEnPu",
        "colab": {
          "base_uri": "https://localhost:8080/"
        },
        "outputId": "aae501ac-ae24-4e06-b38a-af60cd6bc759"
      },
      "source": [
        "print(G)"
      ],
      "execution_count": 14,
      "outputs": [
        {
          "output_type": "stream",
          "name": "stdout",
          "text": [
            "Graph with 107614 nodes and 12238285 edges\n"
          ]
        }
      ]
    },
    {
      "cell_type": "code",
      "metadata": {
        "id": "0Y2ZJ8kVE5Fx",
        "colab": {
          "base_uri": "https://localhost:8080/",
          "height": 336
        },
        "outputId": "cde4b2d4-df12-49bb-9b51-c054dfe56af0"
      },
      "source": [
        "chosen_nodes = random.sample(G.nodes, 1000)\n",
        "\n",
        "H = nx.subgraph(G, chosen_nodes)\n",
        "\n",
        "print(nx.info(H))\n",
        "\n",
        "nx.draw(H, node_size=5)\n",
        "plt.show()"
      ],
      "execution_count": 23,
      "outputs": [
        {
          "output_type": "stream",
          "name": "stdout",
          "text": [
            "Graph with 1000 nodes and 1043 edges\n"
          ]
        },
        {
          "output_type": "display_data",
          "data": {
            "image/png": "[encoded data removed]",
            "text/plain": [
              "<Figure size 432x288 with 1 Axes>"
            ]
          },
          "metadata": {}
        }
      ]
    }
  ]
}